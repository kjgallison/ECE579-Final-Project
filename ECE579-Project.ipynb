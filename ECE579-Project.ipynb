{
 "cells": [
  {
   "cell_type": "code",
   "execution_count": 100,
   "metadata": {},
   "outputs": [],
   "source": [
    "import pandas as pd\n",
    "import numpy as np\n",
    "from sklearn.model_selection import train_test_split\n",
    "from sklearn.preprocessing import StandardScaler\n",
    "import tensorflow as tf\n",
    "import keras\n",
    "from keras import layers\n",
    "import matplotlib.pyplot as plt\n",
    "import sklearn.metrics as m\n",
    "import time\n",
    "\n",
    "def normalize(data):\n",
    "    data_mean = data.mean(axis=0)\n",
    "    data_std = data.std(axis=0)\n",
    "    return (data - data_mean) / data_std\n"
   ]
  },
  {
   "cell_type": "code",
   "execution_count": 101,
   "metadata": {},
   "outputs": [],
   "source": [
    "file_path = r\"C:\\Users\\advil\\Desktop\\579 Project\\ORH.csv\"\n",
    "df = pd.read_csv(file_path)\n",
    "selected_columns = ['tpf', 'relh', 'drct', 'sknt','slp']\n",
    "new_df = df[selected_columns]\n",
    "\n",
    "new_df = new_df.dropna()\n",
    "\n",
    "time = df['valid']\n",
    "temperature = df['tpf']\n",
    "pressure = df['slp']\n",
    "relative_humidity = df['relh']\n",
    "wind_speed = df['sknt']\n",
    "wind_dir = df['drct']\n",
    "\n",
    "features = pd.concat([temperature, pressure, relative_humidity, wind_speed, wind_dir], axis=1)\n",
    "features.index = time\n",
    "\n",
    "features = normalize(features.values)\n",
    "features = pd.DataFrame(features)\n",
    "\n",
    "train_size = int(0.8*features.shape[0])\n",
    "\n",
    "train_data = features.loc[0:train_size-1]\n",
    "test_data = features.loc[train_size:]\n",
    "\n",
    "#Prepare training batch\n",
    "start = 120 + 1 # Use past 5 days to predict the next hour\n",
    "end = start + train_size\n",
    "\n",
    "X_train = train_data.values\n",
    "y_train = features.iloc[start:end][[0]]\n",
    "\n",
    "sequence_length = int(120)\n",
    "\n",
    "dataset_train = keras.preprocessing.timeseries_dataset_from_array(\n",
    "    data=X_train,\n",
    "    targets=y_train,\n",
    "    sequence_length=sequence_length,\n",
    "    sampling_rate=1\n",
    "    )\n",
    "\n",
    "x_test_end = len(test_data) - start\n",
    "\n",
    "label_start = train_size + start\n",
    "\n",
    "X_test = test_data.iloc[:x_test_end].values\n",
    "y_test = features.iloc[label_start:][[0]]\n",
    "\n",
    "dataset_test = keras.preprocessing.timeseries_dataset_from_array(\n",
    "    X_test,\n",
    "    y_test,\n",
    "    sequence_length=sequence_length,\n",
    "    sampling_rate=1\n",
    ")"
   ]
  },
  {
   "cell_type": "code",
   "execution_count": 102,
   "metadata": {},
   "outputs": [],
   "source": [
    "\n",
    "for batch in dataset_train.take(1):\n",
    "    inputs, y_out = batch\n",
    "# Define the model\n",
    "Basemodel = tf.keras.Sequential([\n",
    "    layers.Input(shape=(inputs.shape[1], inputs.shape[2]), name = 'input'),\n",
    "    layers.LSTM(96, return_sequences=True, time_major=False),\n",
    "    layers.LSTM(96),\n",
    "    layers.Dense(96, activation='relu'),\n",
    "    layers.Dense(1)\n",
    "])\n",
    "\n",
    "callback = tf.keras.callbacks.EarlyStopping(monitor='mae', patience=5)\n",
    "\n",
    "# Basemodel = keras.Model(inputs=inputs, outputs=outputs)\n",
    "\n",
    "Basemodel.compile(\n",
    "    optimizer='adam', \n",
    "    loss = 'mse',\n",
    "    metrics=['mae'] \n",
    ")\n",
    "\n",
    "Basemodel.summary()\n"
   ]
  },
  {
   "cell_type": "code",
   "execution_count": 103,
   "metadata": {},
   "outputs": [],
   "source": [
    "history = Basemodel.fit(dataset_train, validation_data= dataset_test, epochs=2000, callbacks=[callback])\n"
   ]
  },
  {
   "cell_type": "code",
   "execution_count": 52,
   "metadata": {},
   "outputs": [
    {
     "data": {
      "image/png": "[encoded data removed]",
      "text/plain": [
       "<Figure size 640x480 with 1 Axes>"
      ]
     },
     "metadata": {},
     "output_type": "display_data"
    }
   ],
   "source": [
    "# \"Loss\"\n",
    "plt.plot(range(1,21), history.history['loss'])\n",
    "plt.plot(range(1,21), history.history['val_loss'])\n",
    "plt.xticks(np.arange(0, 21, 4.0))\n",
    "plt.title('Model loss')\n",
    "plt.ylabel('Loss')\n",
    "plt.xlabel('Epoch')\n",
    "plt.legend(['train', 'validation'], loc='upper left')\n",
    "plt.show()"
   ]
  },
  {
   "cell_type": "code",
   "execution_count": 5,
   "metadata": {},
   "outputs": [
    {
     "name": "stdout",
     "output_type": "stream",
     "text": [
      "52/52 [==============================] - 2s 45ms/step - loss: 0.0489 - mae: 0.1681\n"
     ]
    },
    {
     "data": {
      "text/plain": [
       "[0.04890003055334091, 0.1681082546710968]"
      ]
     },
     "execution_count": 5,
     "metadata": {},
     "output_type": "execute_result"
    }
   ],
   "source": [
    "Basemodel.evaluate(dataset_test)"
   ]
  },
  {
   "cell_type": "code",
   "execution_count": null,
   "metadata": {},
   "outputs": [],
   "source": [
    "import matplotlib.pyplot as plt\n",
    "keras.utils.disable_interactive_logging()\n",
    "temp_mean = temperature.mean(axis=0)\n",
    "temp_std = temperature.std(axis=0)\n",
    "\n",
    "time_elapsed = 0\n",
    "count = 0\n",
    "for x, y in dataset_test:\n",
    "    start = time.time()\n",
    "    prediction = Basemodel.predict(x)[0] * temp_std + temp_mean\n",
    "    end =  time.time()\n",
    "    count +=1\n",
    "    time_elapsed += end-start\n",
    "\n",
    "    history_data = x[0][:, 0].numpy() * temp_std + temp_mean\n",
    "    true_value = y[0].numpy() * temp_std + temp_mean    \n",
    "    time_steps = list(range(-(history_data.shape[0]), 0))\n",
    "    plt.plot(time_steps, history_data)\n",
    "    plt.plot(1, true_value, \"gD\")\n",
    "    plt.plot(1, prediction, \"rX\")\n",
    "    plt.legend([\"Previous 120 Hours\", \"Recorded Hourly Temperature\", \"Forecasted Temperature\"])\n",
    "    plt.xlabel(\"Time (Hours)\")\n",
    "    plt.ylabel(\"Temperature (°F)\")\n",
    "    plt.show()\n",
    "print(f\"Average inference time {time_elapsed/count}\")"
   ]
  },
  {
   "cell_type": "code",
   "execution_count": null,
   "metadata": {},
   "outputs": [],
   "source": [
    "run_model = tf.function(lambda x: Basemodel(x))\n",
    "# This is important, let's fix the input size.\n",
    "BATCH_SIZE = 1\n",
    "STEPS = 120\n",
    "INPUT_SIZE = 5\n",
    "concrete_func = run_model.get_concrete_function(\n",
    "    tf.TensorSpec([BATCH_SIZE, STEPS, INPUT_SIZE], Basemodel.inputs[0].dtype))\n",
    "\n",
    "Basemodel.save(r\"C:\\Users\\advil\\Desktop\\579 Project\\lstm_temperature_vF2\", save_format= 'tf', signatures=concrete_func)"
   ]
  },
  {
   "cell_type": "code",
   "execution_count": 7,
   "metadata": {},
   "outputs": [],
   "source": [
    "def representative_data_gen():\n",
    "  for input_value in dataset_test.take(100):\n",
    "    for model_in in tf.data.Dataset.from_tensor_slices(input_value[0]).batch(1).take(5):\n",
    "      yield [np.array(model_in, dtype=np.float32, ndmin=2)]\n"
   ]
  },
  {
   "cell_type": "code",
   "execution_count": 94,
   "metadata": {},
   "outputs": [
    {
     "name": "stdout",
     "output_type": "stream",
     "text": [
      "=== C:\\Users\\advil\\Desktop\\579 Project\\lstm_model_vFB.tflite ===\n",
      "\n",
      "Your TFLite model has '1' subgraph(s). In the subgraph description below,\n",
      "T# represents the Tensor numbers. For example, in Subgraph#0, the UNIDIRECTIONAL_SEQUENCE_LSTM op takes\n",
      "tensor #0 and tensor #8 and tensor #7 and tensor #6 and tensor #5 and tensor #16 and tensor #15 and tensor #14 and tensor #13 and tensor #-1 and tensor #-1 and tensor #-1 and tensor #12 and tensor #11 and tensor #10 and tensor #9 and tensor #-1 and tensor #-1 and tensor #21 and tensor #33 and tensor #-1 and tensor #-1 and tensor #-1 and tensor #-1 as input and produces tensor #34 as output.\n",
      "\n",
      "Subgraph#0 main(T#0) -> [T#40]\n",
      "  Op#0 UNIDIRECTIONAL_SEQUENCE_LSTM(T#0, T#8, T#7, T#6, T#5, T#16, T#15, T#14, T#13, T#-1, T#-1, T#-1, T#12, T#11, T#10, T#9, T#-1, T#-1, T#21, T#33, T#-1, T#-1, T#-1, T#-1) -> [T#34]\n",
      "  Op#1 UNIDIRECTIONAL_SEQUENCE_LSTM(T#34, T#28, T#29, T#30, T#31, T#24, T#25, T#26, T#27, T#-1, T#-1, T#-1, T#20, T#19, T#18, T#17, T#-1, T#-1, T#35, T#36, T#-1, T#-1, T#-1, T#-1) -> [T#37]\n",
      "  Op#2 STRIDED_SLICE(T#37, T#3[0, -1, 0], T#2[0, 0, 0], T#1[1, 1, 1]) -> [T#38]\n",
      "  Op#3 FULLY_CONNECTED(T#38, T#32, T#23) -> [T#39]\n",
      "  Op#4 FULLY_CONNECTED(T#39, T#4, T#22) -> [T#40]\n",
      "\n",
      "Tensors of Subgraph#0\n",
      "  T#0(serving_default_x:0) shape:[1, 120, 5], type:FLOAT32\n",
      "  T#1(arith.constant) shape:[3], type:INT32 RO 12 bytes, buffer: 2, data:[1, 1, 1]\n",
      "  T#2(arith.constant1) shape:[3], type:INT32 RO 12 bytes, buffer: 3, data:[0, 0, 0]\n",
      "  T#3(arith.constant2) shape:[3], type:INT32 RO 12 bytes, buffer: 4, data:[0, -1, 0]\n",
      "  T#4(sequential/dense_1/MatMul) shape:[1, 96], type:FLOAT32 RO 384 bytes, buffer: 5, data:[-0.0481276, 0.0125012, 0.118498, 0.0594849, -0.0794203, ...]\n",
      "  T#5(arith.constant3) shape:[96, 5], type:FLOAT32 RO 1920 bytes, buffer: 6, data:[-0.107324, -0.0172621, 0.177308, -0.174805, -0.154651, ...]\n",
      "  T#6(arith.constant4) shape:[96, 5], type:FLOAT32 RO 1920 bytes, buffer: 7, data:[0.0493359, -0.0716348, -0.0318171, -0.142513, 0.0410187, ...]\n",
      "  T#7(arith.constant5) shape:[96, 5], type:FLOAT32 RO 1920 bytes, buffer: 8, data:[-0.0193403, 0.115597, 0.158067, -0.0940069, -0.0637849, ...]\n",
      "  T#8(arith.constant6) shape:[96, 5], type:FLOAT32 RO 1920 bytes, buffer: 9, data:[-0.119113, 0.192667, 0.119772, -0.154856, -0.0692581, ...]\n",
      "  T#9(arith.constant7) shape:[96], type:FLOAT32 RO 384 bytes, buffer: 10, data:[-0.111091, -0.0885189, 0.100705, 0.0462064, 0.00650839, ...]\n",
      "  T#10(arith.constant8) shape:[96], type:FLOAT32 RO 384 bytes, buffer: 11, data:[-0.005762, 0.0270402, -0.0793237, -0.00954135, 0.046612, ...]\n",
      "  T#11(arith.constant9) shape:[96], type:FLOAT32 RO 384 bytes, buffer: 12, data:[0.901534, 0.942932, 0.911689, 0.909069, 0.9966, ...]\n",
      "  T#12(arith.constant10) shape:[96], type:FLOAT32 RO 384 bytes, buffer: 13, data:[-0.112901, -0.105224, 0.106832, 0.0481278, 0.0157157, ...]\n",
      "  T#13(arith.constant11) shape:[96, 96], type:FLOAT32 RO 36864 bytes, buffer: 14, data:[0.0046065, -0.084566, 0.0815162, -0.0377994, 0.0323793, ...]\n",
      "  T#14(arith.constant12) shape:[96, 96], type:FLOAT32 RO 36864 bytes, buffer: 15, data:[-0.119758, -0.0527955, 0.0668821, 0.0839166, 0.0436647, ...]\n",
      "  T#15(arith.constant13) shape:[96, 96], type:FLOAT32 RO 36864 bytes, buffer: 16, data:[0.019367, 0.0754057, 0.105355, -0.0242985, 0.0374298, ...]\n",
      "  T#16(arith.constant14) shape:[96, 96], type:FLOAT32 RO 36864 bytes, buffer: 17, data:[0.00444114, -0.0242691, -0.0059147, 0.00533153, 0.0276248, ...]\n",
      "  T#17(arith.constant15) shape:[96], type:FLOAT32 RO 384 bytes, buffer: 18, data:[0.0190547, -0.118461, -0.190528, 0.0131907, -0.043615, ...]\n",
      "  T#18(arith.constant16) shape:[96], type:FLOAT32 RO 384 bytes, buffer: 19, data:[-0.0312721, -0.0078064, 0.00439509, -0.00205173, -0.0149117, ...]\n",
      "  T#19(arith.constant17) shape:[96], type:FLOAT32 RO 384 bytes, buffer: 20, data:[0.937897, 0.880584, 0.821096, 0.906887, 0.946951, ...]\n",
      "  T#20(arith.constant18) shape:[96], type:FLOAT32 RO 384 bytes, buffer: 21, data:[0.0339309, -0.115582, -0.192614, 0.0208473, -0.0473372, ...]\n",
      "  T#21(sequential/lstm/zeros) shape:[1, 96], type:FLOAT32\n",
      "  T#22(sequential/dense_1/BiasAdd/ReadVariableOp) shape:[1], type:FLOAT32 RO 4 bytes, buffer: 23, data:[0.0646925]\n",
      "  T#23(sequential/dense/BiasAdd/ReadVariableOp) shape:[96], type:FLOAT32 RO 384 bytes, buffer: 24, data:[-0.0492935, -0.0510671, 0.0760894, 0.0238281, -0.0219387, ...]\n",
      "  T#24(tfl.pseudo_qconst) shape:[96, 96], type:INT8 RO 9216 bytes, buffer: 25, data:[., ., \n",
      ", \n",
      ", ., ...]\n",
      "  T#25(tfl.pseudo_qconst1) shape:[96, 96], type:INT8 RO 9216 bytes, buffer: 26, data:[., ., ., ), ., ...]\n",
      "  T#26(tfl.pseudo_qconst2) shape:[96, 96], type:INT8 RO 9216 bytes, buffer: 27, data:[., ., ., ., ., ...]\n",
      "  T#27(tfl.pseudo_qconst3) shape:[96, 96], type:INT8 RO 9216 bytes, buffer: 28, data:[/, ., ., ., ., ...]\n",
      "  T#28(tfl.pseudo_qconst4) shape:[96, 96], type:INT8 RO 9216 bytes, buffer: 29, data:[., ., ., ., ., ...]\n",
      "  T#29(tfl.pseudo_qconst5) shape:[96, 96], type:INT8 RO 9216 bytes, buffer: 30, data:[., 0, ., ., ., ...]\n",
      "  T#30(tfl.pseudo_qconst6) shape:[96, 96], type:INT8 RO 9216 bytes, buffer: 31, data:[\", ., >, ., ., ...]\n",
      "  T#31(tfl.pseudo_qconst7) shape:[96, 96], type:INT8 RO 9216 bytes, buffer: 32, data:[., ., ., ., \", ...]\n",
      "  T#32(sequential/dense/MatMul) shape:[96, 96], type:INT8 RO 9216 bytes, buffer: 33, data:[., ., \n",
      ", ., :, ...]\n",
      "  T#33(sequential/lstm/zeros1) shape:[1, 96], type:FLOAT32\n",
      "  T#34(tfl.unidirectional_sequence_lstm) shape:[1, 120, 96], type:FLOAT32\n",
      "  T#35(sequential/lstm/zeros2) shape:[1, 96], type:FLOAT32\n",
      "  T#36(sequential/lstm/zeros3) shape:[1, 96], type:FLOAT32\n",
      "  T#37(tfl.unidirectional_sequence_lstm1) shape:[1, 120, 96], type:FLOAT32\n",
      "  T#38(tfl.strided_slice) shape:[1, 96], type:FLOAT32\n",
      "  T#39(sequential/dense/MatMul;sequential/dense/Relu;sequential/dense/BiasAdd) shape:[1, 96], type:FLOAT32\n",
      "  T#40(StatefulPartitionedCall:0) shape:[1, 1], type:FLOAT32\n",
      "\n",
      "---------------------------------------------------------------\n",
      "Your TFLite model has '1' signature_def(s).\n",
      "\n",
      "Signature#0 key: 'serving_default'\n",
      "- Subgraph: Subgraph#0\n",
      "- Inputs: \n",
      "    'x' : T#0\n",
      "- Outputs: \n",
      "    'output_0' : T#40\n",
      "\n",
      "---------------------------------------------------------------\n",
      "              Model size:     248560 bytes\n",
      "    Non-data buffer size:       4960 bytes (02.00 %)\n",
      "  Total data buffer size:     243600 bytes (98.00 %)\n",
      "    (Zero value buffers):       1548 bytes (00.62 %)\n",
      "\n",
      "* Buffers of TFLite model are mostly used for constant tensors.\n",
      "  And zero value buffers are buffers filled with zeros.\n",
      "  Non-data buffers area are used to store operators, subgraphs and etc.\n",
      "  You can find more details from https://github.com/tensorflow/tensorflow/blob/master/tensorflow/lite/schema/schema.fbs\n",
      "\n"
     ]
    }
   ],
   "source": [
    "# Basemodel = tf.keras.models.load_model(r\"C:\\Users\\advil\\Desktop\\579 Project\\lstm_temperature_vF.keras\")\n",
    "\n",
    "converter = tf.lite.TFLiteConverter.from_saved_model(r\"C:\\Users\\advil\\Desktop\\579 Project\\lstm_temperature_vF2\")\n",
    "converter.optimizations = [tf.lite.Optimize.DEFAULT]\n",
    "#converter.representative_dataset = representative_data_gen\n",
    "converter.target_spec.supported_ops = [tf.lite.OpsSet.TFLITE_BUILTINS]\n",
    "converter._experimental_lower_tensor_list_ops = False\n",
    "tflite_model = converter.convert()\n",
    "\n",
    "# Save the model.\n",
    "with open(r'C:\\Users\\advil\\Desktop\\579 Project\\lstm_model_vFB.tflite', 'wb') as f:\n",
    "  f.write(tflite_model)\n",
    "\n",
    "tf.lite.experimental.Analyzer.analyze(model_path=r\"C:\\Users\\advil\\Desktop\\579 Project\\lstm_model_vFB.tflite\")"
   ]
  },
  {
   "cell_type": "code",
   "execution_count": 89,
   "metadata": {},
   "outputs": [],
   "source": [
    "# Load the TFLite model and allocate tensors.\n",
    "interpreter = tf.lite.Interpreter(model_path=r'C:\\Users\\advil\\Desktop\\579 Project\\lstm_model_vF2.tflite')\n",
    "interpreter.allocate_tensors()\n",
    "\n",
    "# Get input and output tensors.\n",
    "input_details = interpreter.get_input_details()\n",
    "output_details = interpreter.get_output_details()\n",
    "\n",
    "# Test the model on random input data.\n",
    "input_shape = input_details[0]['shape']\n",
    "# print(input_shape)\n",
    "input_tflite = []\n",
    "output_tflite = []\n",
    "for x, y in dataset_test:\n",
    "    input_tflite.append(x)\n",
    "    output_tflite.append(y)\n",
    "\n",
    "temp_mean = temperature.mean(axis=0)\n",
    "temp_std = temperature.std(axis=0)\n",
    "\n",
    "output_pred = []\n",
    "true_y = []\n",
    "for i in range(len(input_tflite)):\n",
    "    input_data = tf.cast(input_tflite[i],tf.float32)\n",
    "    length = input_data.get_shape().as_list()\n",
    "    for j in range(length[0]):\n",
    "        #Conduct and measure inference\n",
    "        interpreter.set_tensor(input_details[0]['index'], [input_data[j]])\n",
    "        interpreter.invoke()\n",
    "        output_data = interpreter.get_tensor(output_details[0]['index'])\n",
    "        end = time.time()\n",
    "        #Post Inference Processing\n",
    "        prediction = output_data #* temp_std + temp_mean\n",
    "        output_pred.append(prediction[0][0])\n",
    "        true_y.append(output_tflite[i][j].numpy()[0])\n",
    "        \n",
    "        # history_data = input_tflite[i][0][:, 1].numpy() * temp_std + temp_mean\n",
    "        # true_value = output_tflite[i][0].numpy() #* temp_std + temp_mean\n",
    "\n",
    "\n",
    "\n",
    "    # time_steps = list(range(-(history_data.shape[0]), 0))\n",
    "    # plt.plot(time_steps, history_data)\n",
    "    # plt.plot(1, true_value, \"gD\")\n",
    "    # plt.plot(1, prediction, \"rX\")\n",
    "    # plt.legend([\"Previous 120 Hours\", \"Recorded Hourly Temperature\", \"Forecasted Temperature\"])\n",
    "    # plt.xlabel(\"Time\")\n",
    "    # plt.show()\n",
    "    # print(f\"Model Output is: {output_data[0]}\")\n",
    "    # print(f\"Expected Output is: \\n{output_tflite[0][1]}\")"
   ]
  },
  {
   "cell_type": "code",
   "execution_count": 80,
   "metadata": {},
   "outputs": [
    {
     "name": "stdout",
     "output_type": "stream",
     "text": [
      "MAE is: 0.17036550830862202\n",
      "Val loss is: 0.05015637640882792\n"
     ]
    }
   ],
   "source": [
    "print(f\"MAE is: {m.mean_absolute_error(true_y, output_pred)}\")\n",
    "print(f\"Val loss is: {m.mean_squared_error(true_y, output_pred)}\")"
   ]
  },
  {
   "cell_type": "markdown",
   "metadata": {},
   "source": [
    "Transfer TFLite Model to C Array for Arduino Nano Implementation"
   ]
  },
  {
   "cell_type": "code",
   "execution_count": 9,
   "metadata": {},
   "outputs": [],
   "source": [
    "def hex_to_c_array(hex_data, var_name):\n",
    "\n",
    "  c_str = ''\n",
    "\n",
    "  # Create header guard\n",
    "  c_str += '#ifndef ' + var_name.upper() + '_H\\n'\n",
    "  c_str += '#define ' + var_name.upper() + '_H\\n\\n'\n",
    "\n",
    "  # Add array length at top of file\n",
    "  c_str += '\\nunsigned int ' + var_name + '_len = ' + str(len(hex_data)) + ';\\n'\n",
    "\n",
    "  # Declare C variable\n",
    "  c_str += 'unsigned char ' + var_name + '[] = {'\n",
    "  hex_array = []\n",
    "  for i, val in enumerate(hex_data) :\n",
    "\n",
    "    # Construct string from hex\n",
    "    hex_str = format(val, '#04x')\n",
    "\n",
    "    # Add formatting so each line stays within 80 characters\n",
    "    if (i + 1) < len(hex_data):\n",
    "      hex_str += ','\n",
    "    if (i + 1) % 12 == 0:\n",
    "      hex_str += '\\n '\n",
    "    hex_array.append(hex_str)\n",
    "\n",
    "  # Add closing brace\n",
    "  c_str += '\\n ' + format(' '.join(hex_array)) + '\\n};\\n\\n'\n",
    "\n",
    "  # Close out header guard\n",
    "  c_str += '#endif //' + var_name.upper() + '_H'\n",
    "\n",
    "  return c_str"
   ]
  },
  {
   "cell_type": "code",
   "execution_count": 10,
   "metadata": {},
   "outputs": [],
   "source": [
    "with open(r'C:\\Users\\advil\\Desktop\\579 Project\\lstm_vF2_h.h', 'w') as file:\n",
    "  file.write(hex_to_c_array(tflite_model, 'lstm_vF2_h'))"
   ]
  }
 ],
 "metadata": {
  "kernelspec": {
   "display_name": "base",
   "language": "python",
   "name": "python3"
  },
  "language_info": {
   "codemirror_mode": {
    "name": "ipython",
    "version": 3
   },
   "file_extension": ".py",
   "mimetype": "text/x-python",
   "name": "python",
   "nbconvert_exporter": "python",
   "pygments_lexer": "ipython3",
   "version": "3.11.6"
  }
 },
 "nbformat": 4,
 "nbformat_minor": 2
}
